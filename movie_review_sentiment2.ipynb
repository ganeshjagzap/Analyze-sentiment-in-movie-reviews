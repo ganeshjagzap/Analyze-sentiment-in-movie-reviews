{
  "nbformat": 4,
  "nbformat_minor": 0,
  "metadata": {
    "colab": {
      "provenance": []
    },
    "kernelspec": {
      "name": "python3",
      "display_name": "Python 3"
    },
    "language_info": {
      "name": "python"
    }
  },
  "cells": [
    {
      "cell_type": "code",
      "source": [],
      "metadata": {
        "id": "tpaF9_B1r6ru"
      },
      "execution_count": null,
      "outputs": []
    },
    {
      "cell_type": "code",
      "execution_count": 1,
      "metadata": {
        "id": "InnKmtSxmVwk"
      },
      "outputs": [],
      "source": [
        "from joblib import load\n",
        "\n",
        "naive_bayes_classifier = load('/content/drive/MyDrive/NLP/naive_bayes_model.joblib')\n",
        "vectorizer = load('/content/drive/MyDrive/NLP/count_vectorizer.joblib')\n",
        "\n",
        "def predict_sentiment(new_review):\n",
        "    new_review_vectorized = vectorizer.transform([new_review])\n",
        "    prediction = naive_bayes_classifier.predict(new_review_vectorized)\n",
        "    if prediction[0] == 0:\n",
        "        return \"Negative\"\n",
        "    else:\n",
        "        return \"Positive\""
      ]
    },
    {
      "cell_type": "code",
      "source": [
        "from google.colab import drive\n",
        "drive.mount('/content/drive')"
      ],
      "metadata": {
        "colab": {
          "base_uri": "https://localhost:8080/"
        },
        "id": "x4QfdDwEcqa3",
        "outputId": "8d28aa70-a9e3-449b-e707-ccb00a7d6c34"
      },
      "execution_count": 3,
      "outputs": [
        {
          "output_type": "stream",
          "name": "stdout",
          "text": [
            "Drive already mounted at /content/drive; to attempt to forcibly remount, call drive.mount(\"/content/drive\", force_remount=True).\n"
          ]
        }
      ]
    },
    {
      "cell_type": "code",
      "source": [
        "review_list=[\n",
        "    \"Absolutely stunning! The cinematography was breathtaking, the acting was superb, and the storyline kept me engaged from start to finish. Highly recommended!\",\n",
        "    \"Awful film. I couldn't wait for it to be over. The story was nonsensical, the characters were one-dimensional, and the pacing was incredibly slow. Avoid at all costs.\",\n",
        "    \"Utterly disappointing. I had high hopes for this movie, but it fell flat in every aspect. Poorly written, poorly directed, and poorly executed. Save yourself the agony and skip it.\",\n",
        "    \"What a masterpiece! This movie exceeded all my expectations. The characters were well-developed, the plot was gripping, and the ending left me speechless. A must-watch for any movie lover.\",\n",
        "    \"Incredible film! I laughed, I cried, and I was on the edge of my seat throughout. The performances were outstanding, and the direction was top-notch. Can't wait to see it again!\",\n",
        "    \"Terrible movie. The acting was wooden, the plot was predictable, and the dialogue felt forced. I regret wasting my time and money on this disappointment.\"]\n"
      ],
      "metadata": {
        "id": "5p2v33gfnxu1"
      },
      "execution_count": 4,
      "outputs": []
    },
    {
      "cell_type": "code",
      "source": [
        "for review in review_list:\n",
        "  print(predict_sentiment(review))\n"
      ],
      "metadata": {
        "colab": {
          "base_uri": "https://localhost:8080/"
        },
        "id": "Usi93NdvnaZI",
        "outputId": "a4775615-497b-48ab-d4fb-4c7296303952"
      },
      "execution_count": 5,
      "outputs": [
        {
          "output_type": "stream",
          "name": "stdout",
          "text": [
            "Positive\n",
            "Negative\n",
            "Negative\n",
            "Positive\n",
            "Positive\n",
            "Negative\n"
          ]
        }
      ]
    },
    {
      "cell_type": "code",
      "source": [],
      "metadata": {
        "id": "goBUt8N7oXIY"
      },
      "execution_count": null,
      "outputs": []
    }
  ]
}